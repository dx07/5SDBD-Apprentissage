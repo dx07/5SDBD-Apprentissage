{
 "cells": [
  {
   "cell_type": "code",
   "execution_count": null,
   "metadata": {},
   "outputs": [],
   "source": [
    "#SNN : shared Neirest Neighbors (clustering basé graphe)\n",
    "# graphe de voisinage\n",
    "#(DBSCAN, clustering basé densité)\n",
    "# cours :https://homepages.laas.fr/huguet/drupal/sites/homepages.laas.fr.huguet/files/u78/2018-2019-cours_AP-NS-Part-2-Clustering.pdf \n",
    "\n",
    "# SNN et DBSCAN permet de gérer des densité de points différentes, de trouver des formes complexes\n",
    "\n",
    "#Algorithme SNN-DBSCAN\n",
    "#1. Calculer la matrice de similarité point à point\n",
    "#2.Filtrer la matrice pour ne conserver que k voisins les plus similaires\n",
    "#3.Construire le graphe SNN\n",
    "#4.Appliquer le principe de DBSCAN\n",
    "#   Paramètres : epsilon et MinPts\n",
    "#     Calculer le epsilon-voisinage de chaque point  x\n",
    "#     densité SNN(x)\n",
    "#     Déterminer les points intérieurs (voisinage au moins de taille MinPts) et construire les clusters associés\n",
    "#     Retirer les points atypiques86\n",
    "\n",
    "\n",
    "# Variante : Jarvis-Patrick \n",
    "#1.Calculer la matrice de similarité point à point\n",
    "#2.Filtrer la matrice pour ne conserver que k voisins les plus similaires\n",
    "#3.Construire le graphe SNN\n",
    "#   Appliquer un seuil de similarité sur la matrice \n",
    "#   appliquer une recherche de composantes connexes pour obtenir les clusters\n",
    "\n",
    "\n",
    "#   Méthode ChameleonPré-processing : \n",
    "#   Calculer le graphe des plus proches voisins\n",
    "#   Deux phases\n",
    "#   Déterminer des sous clusters initiaux (partition du graphe des k-ppv)\n",
    "#   Approche hiérarchique ascendante : \n",
    "        #Mesures spécifiques pour regrouper des clusters (inter-connectivité et proximité)88\n"
   ]
  },
  {
   "cell_type": "code",
   "execution_count": 16,
   "metadata": {},
   "outputs": [],
   "source": [
    "# jeu de données\n",
    "# matrice de distance\n",
    "# matrice de voisinage\n",
    "# DBSCAN\n",
    "import numpy as np\n",
    "\n",
    "from sklearn.cluster import DBSCAN\n",
    "from sklearn import metrics\n",
    "import matplotlib.pyplot as plt\n",
    "from scipy.spatial.distance import euclidean\n",
    "\n",
    "\n",
    "\n"
   ]
  },
  {
   "cell_type": "code",
   "execution_count": 26,
   "metadata": {},
   "outputs": [
    {
     "name": "stdout",
     "output_type": "stream",
     "text": [
      " shape data1 :  (8000, 2)\n",
      "[454.665985 264.80899 ]\n"
     ]
    }
   ],
   "source": [
    "# 1. CONSTRUIRE LA MATRICE DE SIMILARITE\n",
    "# SIMILARITE : 1/(1+distance)\n",
    "\n",
    "data1 = np.loadtxt( 'cham-data/t4.8k.dat' )\n",
    "# Autre possibilité, genloadstxt\n",
    "data1[1][0]\n",
    "print(' shape data1 : ' , data1.shape)\n",
    "print(data1[1,])\n",
    "# chaque ligne représente les coordonnées d'un point\n",
    "\n",
    "\n",
    "def similarity_func(u, v):\n",
    "    return 1/(1+euclidean(u,v))\n",
    "\n",
    "def similarity_Matrix(data):\n",
    "    numPoints = len(data)\n",
    "    matrix = np.zeros(shape=(numPoints, numPoints))\n",
    "    for i in range(len(matrix)):\n",
    "        for j in range(len(matrix)):\n",
    "            sim = similarity_func(data[i], data[j])\n",
    "            matrix[i,j] = sim\n",
    "    return matrix\n",
    "\n",
    "# Similarity matrix OK"
   ]
  },
  {
   "cell_type": "code",
   "execution_count": 43,
   "metadata": {},
   "outputs": [],
   "source": [
    "#test Similarity_Matrix\n",
    "data=([\n",
    "    [1, 0],\n",
    "    [1, 1],\n",
    "    [2, 1]])\n",
    "#similarity_Matrix(data)\n",
    "sim1=similarity_Matrix(data1[1:5,:])"
   ]
  },
  {
   "cell_type": "code",
   "execution_count": 44,
   "metadata": {},
   "outputs": [
    {
     "data": {
      "text/plain": [
       "array([[1.        , 0.00272431, 0.01203834, 0.00373232],\n",
       "       [0.00272431, 1.        , 0.00347096, 0.00424803],\n",
       "       [0.01203834, 0.00347096, 1.        , 0.00436448],\n",
       "       [0.00373232, 0.00424803, 0.00436448, 1.        ]])"
      ]
     },
     "execution_count": 44,
     "metadata": {},
     "output_type": "execute_result"
    }
   ],
   "source": [
    "sim1\n"
   ]
  },
  {
   "cell_type": "code",
   "execution_count": 68,
   "metadata": {},
   "outputs": [
    {
     "name": "stdout",
     "output_type": "stream",
     "text": [
      "  (0, 2)\t1.0\n",
      "  (0, 3)\t1.0\n",
      "  (1, 3)\t1.0\n",
      "  (1, 2)\t1.0\n",
      "  (2, 0)\t1.0\n",
      "  (2, 3)\t1.0\n",
      "  (3, 2)\t1.0\n",
      "  (3, 1)\t1.0\n"
     ]
    }
   ],
   "source": [
    "# ICI, le graphe des kneibors nous permet de faire l'étape 1 et l'etape 2 en même temps.\n",
    "# par défaut, il compare les distances euclidiennes, mais on peut la setter.\n",
    "#DOC ICI : https://scikit-learn.org/stable/modules/generated/sklearn.neighbors.kneighbors_graph.html\n",
    "#MJ dit : c'est OK pour l'utiliser. le but étant de faire un meilleur score que DBSCAN\n",
    "from sklearn.neighbors import kneighbors_graph\n",
    "A = kneighbors_graph(sim1, 2, mode='connectivity', include_self= False)\n",
    "\n",
    "#TODO : trouver les paramètres optimaux et comment appliquer la suite de l'algo.\n",
    "# idée : se servir de A pour mettre à jour la matrice de similarité\n",
    "print(A)"
   ]
  },
  {
   "cell_type": "code",
   "execution_count": 52,
   "metadata": {},
   "outputs": [],
   "source": [
    "#2.Filtrer la matrice pour ne conserver que k voisins les plus similaires\n",
    "#Method to compute K-Nearest Neighbors of points\n",
    "def SparseSimMatrix(simMatrix, k):\n",
    "    count=len(simMatrix)\n",
    "    # matrix = [[0 for i in range(count)] for j in range(count)]\n",
    "    #matrix with dimension count*count\n",
    "    for i in range(count):\n",
    "        matrixsorted = sorted(simMatrix[i], key=lambda x: x[1])# sort each row of Matrix based on distance(value)\n",
    "        #print matrixsorted\n",
    "        for j in range(k):\n",
    "            #file.write(str(matrixsorted[0][j+1]) + \" \")# write all the k nearest neighbors to file\n",
    "            similarityMatrix[i][j] = int(matrixsorted[j+1][0][1])#Assign each row  in similarityMatrix to all the k nearest neighbors..\n",
    "    return similarityMatrix"
   ]
  },
  {
   "cell_type": "code",
   "execution_count": 65,
   "metadata": {},
   "outputs": [
    {
     "data": {
      "text/plain": [
       "[0.002724314270051647, 0.0037323236050198698, 0.012038337656274696, 1.0]"
      ]
     },
     "execution_count": 65,
     "metadata": {},
     "output_type": "execute_result"
    }
   ],
   "source": [
    "sorted(sim1[0] )"
   ]
  },
  {
   "cell_type": "code",
   "execution_count": null,
   "metadata": {},
   "outputs": [],
   "source": []
  }
 ],
 "metadata": {
  "kernelspec": {
   "display_name": "Python 3",
   "language": "python",
   "name": "python3"
  },
  "language_info": {
   "codemirror_mode": {
    "name": "ipython",
    "version": 3
   },
   "file_extension": ".py",
   "mimetype": "text/x-python",
   "name": "python",
   "nbconvert_exporter": "python",
   "pygments_lexer": "ipython3",
   "version": "3.6.7"
  }
 },
 "nbformat": 4,
 "nbformat_minor": 2
}
