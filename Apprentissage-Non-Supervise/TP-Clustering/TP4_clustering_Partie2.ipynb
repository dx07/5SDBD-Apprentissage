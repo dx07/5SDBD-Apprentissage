{
 "cells": [
  {
   "cell_type": "code",
   "execution_count": null,
   "metadata": {},
   "outputs": [],
   "source": [
    "#SNN : shared Neirest Neighbors (clustering basé graphe)\n",
    "#***********************************\n",
    "#       UTILE POUR LE RAPPORT\n",
    "#***********************************\n",
    "\n",
    "# graphe de voisinage\n",
    "#(DBSCAN, clustering basé densité)\n",
    "# cours :https://homepages.laas.fr/huguet/drupal/sites/homepages.laas.fr.huguet/files/u78/2018-2019-cours_AP-NS-Part-2-Clustering.pdf \n",
    "\n",
    "# SNN et DBSCAN permet de gérer des densité de points différentes, de trouver des formes complexes\n",
    "\n",
    "#Algorithme SNN-DBSCAN\n",
    "#1. Calculer la matrice de similarité point à point\n",
    "#2.Filtrer la matrice pour ne conserver que k voisins les plus similaires\n",
    "#3.Construire le graphe SNN\n",
    "#    Appliquer un seuil de similarité sur la matrice \n",
    "#   appliquer une recherche de composantes connexes pour obtenir les clusters\n",
    "#4.Appliquer le principe de DBSCAN\n",
    "#   Paramètres : epsilon et MinPts\n",
    "#     Calculer le epsilon-voisinage de chaque point  x\n",
    "#     densité SNN(x)\n",
    "#     Déterminer les points intérieurs (voisinage au moins de taille MinPts) et construire les clusters associés\n",
    "#     Retirer les points atypiques86\n",
    "\n",
    "\n",
    "# Variante : Jarvis-Patrick \n",
    "#1.Calculer la matrice de similarité point à point\n",
    "#2.Filtrer la matrice pour ne conserver que k voisins les plus similaires\n",
    "#3.Construire le graphe SNN\n",
    "#  \n",
    "\n",
    "\n",
    "#   Méthode ChameleonPré-processing : \n",
    "#   Calculer le graphe des plus proches voisins\n",
    "#   Deux phases\n",
    "#   Déterminer des sous clusters initiaux (partition du graphe des k-ppv)\n",
    "#   Approche hiérarchique ascendante : \n",
    "        #Mesures spécifiques pour regrouper des clusters (inter-connectivité et proximité)88\n"
   ]
  },
  {
   "cell_type": "code",
   "execution_count": 2,
   "metadata": {},
   "outputs": [],
   "source": [
    "# Imports nécessaires\n",
    "import numpy as np\n",
    "\n",
    "from sklearn.cluster import DBSCAN\n",
    "from sklearn import metrics\n",
    "import matplotlib.pyplot as plt\n",
    "from scipy.spatial.distance import euclidean\n",
    "from sklearn.neighbors import kneighbors_graph\n",
    "\n",
    "\n",
    "\n",
    "\n"
   ]
  },
  {
   "cell_type": "code",
   "execution_count": 3,
   "metadata": {},
   "outputs": [
    {
     "name": "stdout",
     "output_type": "stream",
     "text": [
      " shape data1 :  (8000, 2)\n",
      "[454.665985 264.80899 ]\n"
     ]
    }
   ],
   "source": [
    "# 1. CONSTRUIRE LA MATRICE DE SIMILARITE\n",
    "# SIMILARITE : 1/(1+distance)\n",
    "\n",
    "data1 = np.loadtxt( 'cham-data/t4.8k.dat' )\n",
    "# Autre possibilité, genloadstxt\n",
    "data1[1][0]\n",
    "print(' shape data1 : ' , data1.shape)\n",
    "print(data1[1,])\n",
    "# chaque ligne représente les coordonnées d'un point\n",
    "\n",
    "\n",
    "def similarity_func(u, v):\n",
    "    return 1/(1+euclidean(u,v))\n",
    "\n",
    "def similarity_Matrix(data):\n",
    "    numPoints = len(data)\n",
    "    matrix = np.zeros(shape=(numPoints, numPoints))\n",
    "    for i in range(len(matrix)):\n",
    "        for j in range(i+1,len(matrix)):\n",
    "            sim = similarity_func(data[i], data[j])\n",
    "            matrix[i,j] = sim\n",
    "    return matrix\n",
    "\n",
    "# Similarity matrix OK"
   ]
  },
  {
   "cell_type": "code",
   "execution_count": 15,
   "metadata": {},
   "outputs": [],
   "source": [
    "#test Similarity_Matrix\n",
    "data=([\n",
    "    [1, 0],\n",
    "    [1, 1],\n",
    "    [2, 1]])\n",
    "#similarity_Matrix(data)\n",
    "sim1=similarity_Matrix(data)\n",
    "#simtot=similarity_Matrix(data1)"
   ]
  },
  {
   "cell_type": "code",
   "execution_count": 16,
   "metadata": {},
   "outputs": [
    {
     "data": {
      "text/plain": [
       "array([[0.        , 0.5       , 0.41421356],\n",
       "       [0.        , 0.        , 0.5       ],\n",
       "       [0.        , 0.        , 0.        ]])"
      ]
     },
     "execution_count": 16,
     "metadata": {},
     "output_type": "execute_result"
    }
   ],
   "source": [
    "#test\n",
    "sim1\n",
    "#simtot"
   ]
  },
  {
   "cell_type": "code",
   "execution_count": 11,
   "metadata": {},
   "outputs": [
    {
     "name": "stdout",
     "output_type": "stream",
     "text": [
      "A, input similarity matrice, mode connectivity \n",
      " [[0. 0. 1. 1. 0. 0. 1.]\n",
      " [1. 0. 1. 1. 0. 0. 0.]\n",
      " [0. 0. 0. 1. 1. 0. 1.]\n",
      " [0. 0. 1. 0. 1. 0. 1.]\n",
      " [0. 0. 1. 1. 0. 0. 1.]\n",
      " [0. 0. 1. 1. 1. 0. 0.]\n",
      " [0. 0. 1. 1. 1. 0. 0.]] \n",
      "\n",
      "B, input similarity matrice, mode distance \n",
      " [[0.         0.         0.01240566 0.0135567  0.         0.\n",
      "  0.01365098]\n",
      " [0.02686166 0.         0.02456096 0.02382791 0.         0.\n",
      "  0.        ]\n",
      " [0.         0.         0.         0.00549448 0.00745487 0.\n",
      "  0.00705449]\n",
      " [0.         0.         0.00549448 0.         0.00421057 0.\n",
      "  0.00849167]\n",
      " [0.         0.         0.00745487 0.00421057 0.         0.\n",
      "  0.00908363]\n",
      " [0.         0.         0.07452578 0.07207866 0.07131507 0.\n",
      "  0.        ]\n",
      " [0.         0.         0.00705449 0.00849167 0.00908363 0.\n",
      "  0.        ]] \n",
      "\n",
      "C, input data (x,y of each point), mode distance\n",
      " [[  0.           0.          82.06794747 266.92960789 358.6524946\n",
      "    0.           0.        ]\n",
      " [  0.           0.           0.           0.          36.4929661\n",
      "  113.98496796 123.10060934]\n",
      " [ 82.06794747   0.           0.         228.12227409 277.69938328\n",
      "    0.           0.        ]\n",
      " [  0.           0.         228.12227409   0.           0.\n",
      "  191.03454625 182.13519038]\n",
      " [  0.          36.4929661    0.           0.           0.\n",
      "  150.41467208 159.34535514]\n",
      " [  0.         113.98496796   0.           0.         150.41467208\n",
      "    0.          11.94579909]\n",
      " [  0.         123.10060934   0.           0.         159.34535514\n",
      "   11.94579909   0.        ]] \n",
      "\n",
      "Sim1, print de la matrice de similarité\n",
      " [[0.         0.00272431 0.01203834 0.00373232 0.00278046 0.00247513\n",
      "  0.00249365]\n",
      " [0.         0.         0.00347096 0.00424803 0.02667167 0.00869679\n",
      "  0.00805798]\n",
      " [0.         0.         0.         0.00436448 0.0035881  0.0029801\n",
      "  0.00299362]\n",
      " [0.         0.         0.         0.         0.00389552 0.0052074\n",
      "  0.00546045]\n",
      " [0.         0.         0.         0.         0.         0.00660438\n",
      "  0.00623654]\n",
      " [0.         0.         0.         0.         0.         0.\n",
      "  0.07724514]\n",
      " [0.         0.         0.         0.         0.         0.\n",
      "  0.        ]] \n",
      "\n",
      "D, A*sim1, connectivité * similarity \n",
      " [[0.         0.         0.01203834 0.00373232 0.         0.\n",
      "  0.00249365]\n",
      " [0.         0.         0.00347096 0.00424803 0.         0.\n",
      "  0.        ]\n",
      " [0.         0.         0.         0.00436448 0.0035881  0.\n",
      "  0.00299362]\n",
      " [0.         0.         0.         0.         0.00389552 0.\n",
      "  0.00546045]\n",
      " [0.         0.         0.         0.         0.         0.\n",
      "  0.00623654]\n",
      " [0.         0.         0.         0.         0.         0.\n",
      "  0.        ]\n",
      " [0.         0.         0.         0.         0.         0.\n",
      "  0.        ]]\n"
     ]
    }
   ],
   "source": [
    "# TESTS sur SIM1\n",
    "# par défaut, le kneighbor graph compare les distances euclidiennes, \n",
    "#et renvoit les plus proches voisins de chaque point (sous forme de couple).\n",
    "# On peut setter la distance . \n",
    "# EN ENTREE :\n",
    "# - on peut lui donner les données brutes\n",
    "# - on peut aussi lui donner la matrice de similarité\n",
    "#DOC ICI : https://scikit-learn.org/stable/modules/generated/sklearn.neighbors.kneighbors_graph.html\n",
    "#MJ dit : c'est OK pour l'utiliser. le but étant de faire un meilleur score que DBSCAN\n",
    "A = kneighbors_graph(sim1, 3, mode='connectivity', include_self= False).toarray()\n",
    "\n",
    "#output, matrice avec les 2 plus proches voisins et les distance euclidienne\n",
    "# on fait la distance euclidienne de la matrice de similarité\n",
    "B = kneighbors_graph(sim1, 3, mode='distance', include_self= False).toarray()\n",
    "\n",
    "# idem mais ici, distance euclidienne des points\n",
    "C = kneighbors_graph(data1[1:8,:], 3, mode='distance', include_self= False).toarray()\n",
    "\n",
    "#mutilication de la matrice de similarité par la matrice de connectivité\n",
    "D= A*sim1\n",
    "\n",
    "#TODO : trouver les paramètres optimaux et comment appliquer la suite de l'algo.\n",
    "# idée : se servir de A pour mettre à jour la matrice de similarité\n",
    "print(\"A, input similarity matrice, mode connectivity \\n\",A, \"\\n\")\n",
    "print(\"B, input similarity matrice, mode distance \\n\",B,\"\\n\")\n",
    "print(\"C, input data (x,y of each point), mode distance\\n\", C, \"\\n\")\n",
    "\n",
    "print(\"Sim1, print de la matrice de similarité\\n\",sim1,\"\\n\")\n",
    "print(\"D, A*sim1, connectivité * similarity \\n\",D)\n"
   ]
  },
  {
   "cell_type": "code",
   "execution_count": 13,
   "metadata": {},
   "outputs": [],
   "source": [
    "#2.Filtrer la matrice pour ne conserver que k voisins les plus similaires\n",
    "\n",
    "# par défaut, le kneighbor graph compare les distances euclidiennes, \n",
    "#et renvoit les plus proches voisins de chaque point (sous forme de couple).\n",
    "# On peut setter la distance . \n",
    "# EN ENTREE :\n",
    "# - on peut lui donner les données brutes\n",
    "# - on peut aussi lui donner la matrice de similarité\n",
    "\n",
    "def filtrage_simMatrix(sim, k):\n",
    "    # recuperer les k plus proches voisins ( matrice de 0 et de 1)\n",
    "    A = kneighbors_graph(sim, k, mode='connectivity', include_self= False).toarray()\n",
    "    # On actualise la matrice de similarité en mettant à 0 les voisins qui ne sont pas proches\n",
    "    SimVoisin= sim*A\n",
    "    return SimVoisin\n",
    "    "
   ]
  },
  {
   "cell_type": "code",
   "execution_count": 21,
   "metadata": {},
   "outputs": [
    {
     "data": {
      "text/plain": [
       "array([[0.        , 0.        , 0.01203834, 0.00373232, 0.        ,\n",
       "        0.        , 0.00249365],\n",
       "       [0.        , 0.        , 0.00347096, 0.00424803, 0.        ,\n",
       "        0.        , 0.        ],\n",
       "       [0.        , 0.        , 0.        , 0.00436448, 0.0035881 ,\n",
       "        0.        , 0.00299362],\n",
       "       [0.        , 0.        , 0.        , 0.        , 0.00389552,\n",
       "        0.        , 0.00546045],\n",
       "       [0.        , 0.        , 0.        , 0.        , 0.        ,\n",
       "        0.        , 0.00623654],\n",
       "       [0.        , 0.        , 0.        , 0.        , 0.        ,\n",
       "        0.        , 0.        ],\n",
       "       [0.        , 0.        , 0.        , 0.        , 0.        ,\n",
       "        0.        , 0.        ]])"
      ]
     },
     "execution_count": 21,
     "metadata": {},
     "output_type": "execute_result"
    }
   ],
   "source": [
    "# test\n",
    "simVoisin=filtrage_simMatrix(sim1,3)\n",
    "simVoisin\n",
    "# NOTE : c'est anormalement longpour la matrice sur Simtot (8000 points...)"
   ]
  },
  {
   "cell_type": "code",
   "execution_count": 27,
   "metadata": {},
   "outputs": [],
   "source": [
    "#3. Créer le grape SNN\n",
    "# pour générer le graphe SNN, il faut compter le nombre de voisins en commun puis mettre le poids\n",
    "    # l'algo se trouve p11 de ce pdf : https://pdfs.semanticscholar.org/fc0a/31e27925b62cf5931aab23995644d4d6dd3e.pdf\n",
    "    \n",
    "def SNNmatrix(nnmatrix, k):\n",
    "    snnmatrix= np.zeros((len(nnmatrix), len(nnmatrix)))\n",
    "    for i in range(len(nnmatrix)):\n",
    "        for j in range(i+1, len(nnmatrix)):\n",
    "            counter=0\n",
    "            for m in range(len(nnmatrix)):\n",
    "                if nnmatrix[i][m]!=0. and nnmatrix[m][j]!=0. :\n",
    "                    counter +=1\n",
    "            snnmatrix[i][j]=counter # c'est pas pour la version finale ...\n",
    "            # TODO :\n",
    "            #if counter>=k\n",
    "                #connecter l'arc pondéré\n",
    "    return snnmatrix\n",
    "\n",
    "# TODO : testé, mais ça ne donne pas le bon résultat.\n",
    "# A Débuguer sur un exemple"
   ]
  },
  {
   "cell_type": "code",
   "execution_count": 29,
   "metadata": {},
   "outputs": [
    {
     "data": {
      "text/plain": [
       "array([[0., 0., 0., 1., 2., 0., 2.],\n",
       "       [0., 0., 0., 1., 2., 0., 2.],\n",
       "       [0., 0., 0., 0., 1., 0., 2.],\n",
       "       [0., 0., 0., 0., 0., 0., 1.],\n",
       "       [0., 0., 0., 0., 0., 0., 0.],\n",
       "       [0., 0., 0., 0., 0., 0., 0.],\n",
       "       [0., 0., 0., 0., 0., 0., 0.]])"
      ]
     },
     "execution_count": 29,
     "metadata": {},
     "output_type": "execute_result"
    }
   ],
   "source": [
    "snn=SNNmatrix(simVoisin,1)\n",
    "snn"
   ]
  },
  {
   "cell_type": "code",
   "execution_count": null,
   "metadata": {},
   "outputs": [],
   "source": [
    "#4. Appliquer le principe de DBSCAN\n",
    "# J'ai pas trop saisi coment faire ..."
   ]
  }
 ],
 "metadata": {
  "kernelspec": {
   "display_name": "Python 3",
   "language": "python",
   "name": "python3"
  },
  "language_info": {
   "codemirror_mode": {
    "name": "ipython",
    "version": 3
   },
   "file_extension": ".py",
   "mimetype": "text/x-python",
   "name": "python",
   "nbconvert_exporter": "python",
   "pygments_lexer": "ipython3",
   "version": "3.5.1"
  }
 },
 "nbformat": 4,
 "nbformat_minor": 2
}
