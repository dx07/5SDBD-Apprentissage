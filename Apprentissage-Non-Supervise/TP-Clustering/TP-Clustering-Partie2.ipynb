{
 "cells": [
  {
   "cell_type": "code",
   "execution_count": 48,
   "metadata": {},
   "outputs": [],
   "source": [
    "#SNN : shared Neirest Neighbors (clustering basé graphe)\n",
    "#***********************************\n",
    "#       UTILE POUR LE RAPPORT\n",
    "#***********************************\n",
    "\n",
    "# graphe de voisinage\n",
    "#(DBSCAN, clustering basé densité)\n",
    "# cours :https://homepages.laas.fr/huguet/drupal/sites/homepages.laas.fr.huguet/files/u78/2018-2019-cours_AP-NS-Part-2-Clustering.pdf \n",
    "\n",
    "# SNN et DBSCAN permet de gérer des densité de points différentes, de trouver des formes complexes\n",
    "\n",
    "#Algorithme SNN-DBSCAN\n",
    "#1. Calculer la matrice de similarité point à point\n",
    "#2.Filtrer la matrice pour ne conserver que k voisins les plus similaires\n",
    "#3.Construire le graphe SNN\n",
    "#    Appliquer un seuil de similarité sur la matrice \n",
    "#   appliquer une recherche de composantes connexes pour obtenir les clusters\n",
    "#4.Appliquer le principe de DBSCAN\n",
    "#   Paramètres : epsilon et MinPts\n",
    "#     Calculer le epsilon-voisinage de chaque point  x\n",
    "#     densité SNN(x)\n",
    "#     Déterminer les points intérieurs (voisinage au moins de taille MinPts) et construire les clusters associés\n",
    "#     Retirer les points atypiques86\n",
    "\n",
    "\n",
    "# Variante : Jarvis-Patrick \n",
    "#1.Calculer la matrice de similarité point à point\n",
    "#2.Filtrer la matrice pour ne conserver que k voisins les plus similaires\n",
    "#3.Construire le graphe SNN\n",
    "#  \n"
   ]
  },
  {
   "cell_type": "code",
   "execution_count": 49,
   "metadata": {},
   "outputs": [],
   "source": [
    "# Imports nécessaires\n",
    "import numpy as np\n",
    "\n",
    "from sklearn.cluster import DBSCAN\n",
    "from sklearn import metrics\n",
    "import matplotlib.pyplot as plt\n",
    "from scipy.spatial.distance import euclidean\n",
    "from sklearn.neighbors import kneighbors_graph\n",
    "from scipy.spatial.distance import pdist, squareform\n",
    "\n",
    "\"\"\"\n",
    "1. Construct the similarity matrix.\n",
    "2. Sparsify the similarity matrix using k-nn sparsification.\n",
    "3. Construct the shared nearest neighbor graph from k-nn sparsified similarity matrix.\n",
    "4. For every point in the graph, calculate the total strength of links coming out of the\n",
    "point. (Steps 1-4 are identical to the Jarvis – Patrick scheme.)\n",
    "5. Identify representative points by choosing the points that have high total link strength.\n",
    "6. Identify noise points by choosing the points that have low total link strength and\n",
    "remove them.\n",
    "7. Remove all links that have weight smaller than a threshold.\n",
    "8. Take connected components of points to form clusters, where every point\n",
    "\"\"\"\n",
    "\n",
    "X = np.genfromtxt('Apprentissage-Non-Supervise/TP-Clustering/cham-data/t4.8k.dat', dtype=float)"
   ]
  },
  {
   "cell_type": "code",
   "execution_count": 95,
   "metadata": {},
   "outputs": [
    {
     "name": "stdout",
     "output_type": "stream",
     "text": [
      " shape data1 :  (8000, 2)\n",
      "[454.665985 264.80899 ]\n"
     ]
    }
   ],
   "source": [
    "# 1. CONSTRUIRE LA MATRICE DE SIMILARITE\n",
    "# SIMILARITE : 1/(1+distance)\n",
    "\n",
    "data1 = np.loadtxt( 'cham-data/t4.8k.dat' )\n",
    "# Autre possibilité, genloadstxt\n",
    "data1[1][0]\n",
    "print(' shape data1 : ' , data1.shape)\n",
    "print(data1[1,])\n",
    "# chaque ligne représente les coordonnées d'un point\n",
    "\n",
    "\n",
    "def similarity_func(u, v):\n",
    "    return 1/(1+euclidean(u,v))\n",
    "\n",
    "def similarity_Matrix(data):\n",
    "    numPoints = len(data)\n",
    "    matrix = np.zeros(shape=(numPoints, numPoints))\n",
    "    for i in range(len(matrix)):\n",
    "        for j in range(len(matrix)):\n",
    "            sim = similarity_func(data[i], data[j])\n",
    "            matrix[i,j] = sim\n",
    "    return matrix\n",
    "\n",
    "# Similarity matrix OK"
   ]
  },
  {
   "cell_type": "code",
   "execution_count": 54,
   "metadata": {},
   "outputs": [
    {
     "name": "stdout",
     "output_type": "stream",
     "text": [
      "[[  0.         418.79853038  74.36095274 343.8488028  239.02441989\n",
      "  108.21864136]\n",
      " [418.79853038   0.         366.06484674  82.06794747 266.92960789\n",
      "  358.6524946 ]\n",
      " [ 74.36095274 366.06484674   0.         287.10497738 234.40347896\n",
      "   36.4929661 ]\n",
      " [343.8488028   82.06794747 287.10497738   0.         228.12227409\n",
      "  277.69938328]\n",
      " [239.02441989 266.92960789 234.40347896 228.12227409   0.\n",
      "  255.70540885]\n",
      " [108.21864136 358.6524946   36.4929661  277.69938328 255.70540885\n",
      "    0.        ]]\n",
      "[[1.         0.0023821  0.01326947 0.00289982 0.00416624 0.00915595]\n",
      " [0.0023821  1.         0.00272431 0.01203834 0.00373232 0.00278046]\n",
      " [0.01326947 0.00272431 1.         0.00347096 0.00424803 0.02667167]\n",
      " [0.00289982 0.01203834 0.00347096 1.         0.00436448 0.0035881 ]\n",
      " [0.00416624 0.00373232 0.00424803 0.00436448 1.         0.00389552]\n",
      " [0.00915595 0.00278046 0.02667167 0.0035881  0.00389552 1.        ]]\n"
     ]
    }
   ],
   "source": [
    "# 1. CONSTRUIRE LA MATRICE DE SIMILARITE\n",
    "# SIMILARITE : 1/(1+distance)\n",
    "# 2eme solution beaucoup plus rapide !!!!!\n",
    "\n",
    "def similarity_mat(data):\n",
    "    X_dist = np.array(squareform(pdist(data, metric='euclidean')))\n",
    "    X_sim = 1 / (1 + X_dist)\n",
    "    return X_sim"
   ]
  },
  {
   "cell_type": "code",
   "execution_count": 52,
   "metadata": {},
   "outputs": [
    {
     "name": "stdout",
     "output_type": "stream",
     "text": [
      "[[1.         0.0023821  0.01326947 0.00289982 0.00416624 0.00915595]\n",
      " [0.0023821  1.         0.00272431 0.01203834 0.00373232 0.00278046]\n",
      " [0.01326947 0.00272431 1.         0.00347096 0.00424803 0.02667167]\n",
      " [0.00289982 0.01203834 0.00347096 1.         0.00436448 0.0035881 ]\n",
      " [0.00416624 0.00373232 0.00424803 0.00436448 1.         0.00389552]\n",
      " [0.00915595 0.00278046 0.02667167 0.0035881  0.00389552 1.        ]]\n"
     ]
    }
   ],
   "source": [
    "#test Similarity_Matrix\n",
    "#DEPRECIATED\n",
    "\n",
    "#similarity_Matrix(data)\n",
    "sim1=similarity_Matrix(data1[0:6,:])\n",
    "#simtot=similarity_Matrix(data1)\n",
    "\n",
    "print(sim1)\n",
    "#simtot"
   ]
  },
  {
   "cell_type": "code",
   "execution_count": 53,
   "metadata": {},
   "outputs": [
    {
     "name": "stdout",
     "output_type": "stream",
     "text": [
      "A, input similarity matrice, mode connectivity \n",
      " [[0. 0. 1. 0. 1. 1.]\n",
      " [0. 0. 0. 1. 1. 1.]\n",
      " [1. 0. 0. 0. 1. 1.]\n",
      " [0. 1. 0. 0. 1. 1.]\n",
      " [1. 0. 1. 1. 0. 0.]\n",
      " [1. 0. 1. 0. 1. 0.]] \n",
      "\n",
      "Abis, input data, mode connectivity \n",
      " [[0. 0. 1. 0. 1. 1.]\n",
      " [0. 0. 0. 1. 1. 1.]\n",
      " [1. 0. 0. 0. 1. 1.]\n",
      " [0. 1. 0. 0. 1. 1.]\n",
      " [1. 0. 1. 1. 0. 0.]\n",
      " [1. 0. 1. 0. 1. 0.]] \n",
      "\n",
      "Ater, input data, mode connectivity \n",
      "   (0, 2)\t1.0\n",
      "  (0, 5)\t1.0\n",
      "  (0, 4)\t1.0\n",
      "  (1, 3)\t1.0\n",
      "  (1, 4)\t1.0\n",
      "  (1, 5)\t1.0\n",
      "  (2, 5)\t1.0\n",
      "  (2, 0)\t1.0\n",
      "  (2, 4)\t1.0\n",
      "  (3, 1)\t1.0\n",
      "  (3, 4)\t1.0\n",
      "  (3, 5)\t1.0\n",
      "  (4, 3)\t1.0\n",
      "  (4, 2)\t1.0\n",
      "  (4, 0)\t1.0\n",
      "  (5, 2)\t1.0\n",
      "  (5, 0)\t1.0\n",
      "  (5, 4)\t1.0 \n",
      "\n",
      "B, input similarity matrice, mode distance \n",
      " [[0.         0.         1.39555778 0.         1.40836173 1.40132944]\n",
      " [0.         0.         0.         1.39718945 1.40895855 1.41052629]\n",
      " [1.39555778 0.         0.         0.         1.40842019 1.37650032]\n",
      " [0.         1.39718945 0.         0.         1.40806657 1.40937458]\n",
      " [1.40836173 0.         1.40842019 1.40806657 0.         0.        ]\n",
      " [1.40132944 0.         1.37650032 0.         1.4088923  0.        ]] \n",
      "\n",
      "C, input data (x,y of each point), mode distance\n",
      " [[  0.           0.          74.36095274   0.           0.\n",
      "  108.21864136  62.62860363]\n",
      " [  0.           0.           0.          82.06794747 266.92960789\n",
      "  358.6524946    0.        ]\n",
      " [ 74.36095274   0.           0.           0.           0.\n",
      "   36.4929661  113.98496796]\n",
      " [  0.          82.06794747   0.           0.         228.12227409\n",
      "  277.69938328   0.        ]\n",
      " [  0.           0.         234.40347896 228.12227409   0.\n",
      "    0.         191.03454625]\n",
      " [108.21864136   0.          36.4929661    0.           0.\n",
      "    0.         150.41467208]\n",
      " [ 62.62860363   0.         113.98496796   0.           0.\n",
      "  150.41467208   0.        ]] \n",
      "\n",
      "Sim1, print de la matrice de similarité\n",
      " [[1.         0.0023821  0.01326947 0.00289982 0.00416624 0.00915595]\n",
      " [0.0023821  1.         0.00272431 0.01203834 0.00373232 0.00278046]\n",
      " [0.01326947 0.00272431 1.         0.00347096 0.00424803 0.02667167]\n",
      " [0.00289982 0.01203834 0.00347096 1.         0.00436448 0.0035881 ]\n",
      " [0.00416624 0.00373232 0.00424803 0.00436448 1.         0.00389552]\n",
      " [0.00915595 0.00278046 0.02667167 0.0035881  0.00389552 1.        ]] \n",
      "\n",
      "D, A*sim1, connectivité * similarity \n",
      " [[0.         0.         0.01326947 0.         0.00416624 0.00915595]\n",
      " [0.         0.         0.         0.01203834 0.00373232 0.00278046]\n",
      " [0.01326947 0.         0.         0.         0.00424803 0.02667167]\n",
      " [0.         0.01203834 0.         0.         0.00436448 0.0035881 ]\n",
      " [0.00416624 0.         0.00424803 0.00436448 0.         0.        ]\n",
      " [0.00915595 0.         0.02667167 0.         0.00389552 0.        ]]\n"
     ]
    }
   ],
   "source": [
    "# TESTS sur SIM1\n",
    "#DEPRECIATED\n",
    "\n",
    "\n",
    "# par défaut, le kneighbor graph compare les distances euclidiennes, \n",
    "#et renvoit les plus proches voisins de chaque point (sous forme de couple).\n",
    "# On peut setter la distance . \n",
    "# EN ENTREE :\n",
    "# - on peut lui donner les données brutes\n",
    "# - on peut aussi lui donner la matrice de similarité\n",
    "#DOC ICI : https://scikit-learn.org/stable/modules/generated/sklearn.neighbors.kneighbors_graph.html\n",
    "#MJ dit : c'est OK pour l'utiliser. le but étant de faire un meilleur score que DBSCAN\n",
    "A = kneighbors_graph(sim1, 3, mode='connectivity', include_self= False).toarray()\n",
    "Abis = kneighbors_graph(data1[0:6,:], 3, mode='connectivity', include_self= False).toarray()\n",
    "Ater =kneighbors_graph(data1[0:6,:], 3, mode='connectivity', include_self= False)\n",
    "\n",
    "#output, matrice avec les 2 plus proches voisins et les distance euclidienne\n",
    "# on fait la distance euclidienne de la matrice de similarité\n",
    "B = kneighbors_graph(sim1, 3, mode='distance', include_self= False).toarray()\n",
    "\n",
    "# idem mais ici, distance euclidienne des points\n",
    "C = kneighbors_graph(data1[0:7,:], 3, mode='distance', include_self= False).toarray()\n",
    "\n",
    "#mutilication de la matrice de similarité par la matrice de connectivité\n",
    "D= A*sim1\n",
    "\n",
    "#TODO : trouver les paramètres optimaux et comment appliquer la suite de l'algo.\n",
    "# idée : se servir de A pour mettre à jour la matrice de similarité\n",
    "print(\"A, input similarity matrice, mode connectivity \\n\",A, \"\\n\")\n",
    "print(\"Abis, input data, mode connectivity \\n\",Abis, \"\\n\")\n",
    "print(\"Ater, input data, mode connectivity \\n\",Ater, \"\\n\")\n",
    "\n",
    "\n",
    "print(\"B, input similarity matrice, mode distance \\n\",B,\"\\n\")\n",
    "print(\"C, input data (x,y of each point), mode distance\\n\", C, \"\\n\")\n",
    "\n",
    "print(\"Sim1, print de la matrice de similarité\\n\",sim1,\"\\n\")\n",
    "print(\"D, A*sim1, connectivité * similarity \\n\",D)\n"
   ]
  },
  {
   "cell_type": "code",
   "execution_count": 55,
   "metadata": {},
   "outputs": [],
   "source": [
    "#2.Filtrer la matrice pour ne conserver que k voisins les plus similaires\n",
    "\n",
    "# par défaut, le kneighbor graph compare les distances euclidiennes, \n",
    "#et renvoit les plus proches voisins de chaque point (sous forme de couple).\n",
    "# On peut setter la distance . \n",
    "# EN ENTREE :\n",
    "# - on peut lui donner les données brutes\n",
    "# - on peut aussi lui donner la matrice de similarité\n",
    "\n",
    "def filtrage_simMatrix(sim, k):\n",
    "    # recuperer les k plus proches voisins ( matrice de 0 et de 1)\n",
    "    A = kneighbors_graph(sim, k, mode='connectivity', include_self= False).toarray()\n",
    "    # On actualise la matrice de similarité en mettant à 0 les voisins qui ne sont pas proches\n",
    "    SimVoisin= sim*A\n",
    "    return SimVoisin\n",
    "    "
   ]
  },
  {
   "cell_type": "code",
   "execution_count": 10,
   "metadata": {},
   "outputs": [
    {
     "data": {
      "text/plain": [
       "<matplotlib.collections.PathCollection at 0x1c7236d65c0>"
      ]
     },
     "execution_count": 10,
     "metadata": {},
     "output_type": "execute_result"
    },
    {
     "data": {
      "image/png": "[encoded data removed]",
      "text/plain": [
       "<Figure size 432x288 with 1 Axes>"
      ]
     },
     "metadata": {
      "needs_background": "light"
     },
     "output_type": "display_data"
    }
   ],
   "source": [
    "plt.scatter(data1[:, 0], data1[:, 1])\n"
   ]
  },
  {
   "cell_type": "code",
   "execution_count": 56,
   "metadata": {},
   "outputs": [
    {
     "data": {
      "text/plain": [
       "array([[0., 0., 1., 0., 1., 1.],\n",
       "       [0., 0., 0., 1., 1., 1.],\n",
       "       [1., 0., 0., 0., 1., 1.],\n",
       "       [0., 1., 0., 0., 1., 1.],\n",
       "       [1., 0., 1., 1., 0., 0.],\n",
       "       [1., 0., 1., 0., 1., 0.]])"
      ]
     },
     "execution_count": 56,
     "metadata": {},
     "output_type": "execute_result"
    }
   ],
   "source": [
    "kneighbors_graph(X_sim, 3, mode='connectivity', include_self= False).toarray()\n"
   ]
  },
  {
   "cell_type": "code",
   "execution_count": 57,
   "metadata": {},
   "outputs": [],
   "source": [
    "X_Ksim = filtrage_simMatrix(X_sim,3)\n"
   ]
  },
  {
   "cell_type": "code",
   "execution_count": 58,
   "metadata": {},
   "outputs": [
    {
     "name": "stdout",
     "output_type": "stream",
     "text": [
      "[[0.         0.         0.01326947 0.         0.00416624 0.00915595]\n",
      " [0.         0.         0.         0.01203834 0.00373232 0.00278046]\n",
      " [0.01326947 0.         0.         0.         0.00424803 0.02667167]\n",
      " [0.         0.01203834 0.         0.         0.00436448 0.0035881 ]\n",
      " [0.00416624 0.         0.00424803 0.00436448 0.         0.        ]\n",
      " [0.00915595 0.         0.02667167 0.         0.00389552 0.        ]]\n"
     ]
    }
   ],
   "source": [
    "print(X_Ksim)"
   ]
  },
  {
   "cell_type": "code",
   "execution_count": 59,
   "metadata": {},
   "outputs": [
    {
     "name": "stdout",
     "output_type": "stream",
     "text": [
      "labels :  [-1 -1 -1 -1 -1 -1]\n",
      " eps :  0.1  min_samples :  5\n",
      "Estimated number of clusters: 0\n",
      "Estimated number of noise points: 6\n"
     ]
    },
    {
     "ename": "IndexError",
     "evalue": "boolean index did not match indexed array along dimension 0; dimension is 100 but corresponding boolean dimension is 6",
     "traceback": [
      "\u001b[1;31m---------------------------------------------------------------------------\u001b[0m",
      "\u001b[1;31mIndexError\u001b[0m                                Traceback (most recent call last)",
      "\u001b[1;32m<ipython-input-59-141da6320d51>\u001b[0m in \u001b[0;36m<module>\u001b[1;34m\u001b[0m\n\u001b[0;32m     31\u001b[0m     \u001b[0mclass_member_mask\u001b[0m \u001b[1;33m=\u001b[0m \u001b[1;33m(\u001b[0m\u001b[0mlabels\u001b[0m \u001b[1;33m==\u001b[0m \u001b[0mk\u001b[0m\u001b[1;33m)\u001b[0m\u001b[1;33m\u001b[0m\u001b[1;33m\u001b[0m\u001b[0m\n\u001b[0;32m     32\u001b[0m \u001b[1;33m\u001b[0m\u001b[0m\n\u001b[1;32m---> 33\u001b[1;33m     \u001b[0mxy\u001b[0m \u001b[1;33m=\u001b[0m \u001b[0mdata1\u001b[0m\u001b[1;33m[\u001b[0m\u001b[1;36m0\u001b[0m\u001b[1;33m:\u001b[0m\u001b[1;36m100\u001b[0m\u001b[1;33m,\u001b[0m\u001b[1;33m:\u001b[0m\u001b[1;33m]\u001b[0m\u001b[1;33m[\u001b[0m\u001b[0mclass_member_mask\u001b[0m \u001b[1;33m&\u001b[0m \u001b[0mcore_samples_mask\u001b[0m\u001b[1;33m]\u001b[0m\u001b[1;33m\u001b[0m\u001b[1;33m\u001b[0m\u001b[0m\n\u001b[0m\u001b[0;32m     34\u001b[0m     \u001b[0mplt\u001b[0m\u001b[1;33m.\u001b[0m\u001b[0mplot\u001b[0m\u001b[1;33m(\u001b[0m\u001b[0mxy\u001b[0m\u001b[1;33m[\u001b[0m\u001b[1;33m:\u001b[0m\u001b[1;33m,\u001b[0m \u001b[1;36m0\u001b[0m\u001b[1;33m]\u001b[0m\u001b[1;33m,\u001b[0m \u001b[0mxy\u001b[0m\u001b[1;33m[\u001b[0m\u001b[1;33m:\u001b[0m\u001b[1;33m,\u001b[0m \u001b[1;36m1\u001b[0m\u001b[1;33m]\u001b[0m\u001b[1;33m,\u001b[0m \u001b[1;34m'o'\u001b[0m\u001b[1;33m,\u001b[0m \u001b[0mmarkerfacecolor\u001b[0m\u001b[1;33m=\u001b[0m\u001b[0mtuple\u001b[0m\u001b[1;33m(\u001b[0m\u001b[0mcol\u001b[0m\u001b[1;33m)\u001b[0m\u001b[1;33m,\u001b[0m \u001b[0mmarkeredgecolor\u001b[0m\u001b[1;33m=\u001b[0m\u001b[1;34m'k'\u001b[0m\u001b[1;33m,\u001b[0m \u001b[0mmarkersize\u001b[0m\u001b[1;33m=\u001b[0m\u001b[1;36m14\u001b[0m\u001b[1;33m)\u001b[0m\u001b[1;33m\u001b[0m\u001b[1;33m\u001b[0m\u001b[0m\n\u001b[0;32m     35\u001b[0m \u001b[1;33m\u001b[0m\u001b[0m\n",
      "\u001b[1;31mIndexError\u001b[0m: boolean index did not match indexed array along dimension 0; dimension is 100 but corresponding boolean dimension is 6"
     ],
     "output_type": "error"
    }
   ],
   "source": [
    "# test\n",
    "#simVoisin=filtrage_simMatrix(sim1,3)\n",
    "#simVoisin\n",
    "# NOTE : c'est anormalement longpour la matrice sur Simtot (8000 points...)\n",
    "\n",
    "# Test DBScan sur X_Sim\n",
    "\n",
    "# IMPORT DATA\n",
    "\n",
    "#plt.plot(data3, pch=20)\n",
    "clustering = DBSCAN(eps=10, min_samples=23, metric=\"precomputed\").fit(X_Ksim)\n",
    "core_samples_mask = np.zeros_like(clustering.labels_, dtype=bool)\n",
    "core_samples_mask[clustering.core_sample_indices_] = True\n",
    "labels = clustering.labels_\n",
    "n_noise_ = list(labels).count(-1)\n",
    "print('labels : ', labels)\n",
    "n_clusters_ = len(set(labels)) - (1 if -1 in labels else 0)\n",
    "clustering\n",
    "print(\" eps : \", 0.1 , \" min_samples : \", 5)\n",
    "print('Estimated number of clusters: %d' % n_clusters_)\n",
    "print('Estimated number of noise points: %d' % n_noise_)\n",
    "#print(\"Silhouette Coefficient: %5f\"% metrics.silhouette_score(X_sim, labels))\n",
    "# Black removed and is used for noise instead.\n",
    "unique_labels = set(labels)\n",
    "colors = [plt.cm.Spectral(each) for each in np.linspace(0, 1, len(unique_labels))]\n",
    "for k,col in zip(unique_labels, colors):\n",
    "    if k == -1:\n",
    "        # Black used for noise.\n",
    "        col = [0, 0, 0, 1]\n",
    "\n",
    "    class_member_mask = (labels == k)\n",
    "\n",
    "    xy = data1[0:100,:][class_member_mask & core_samples_mask]\n",
    "    plt.plot(xy[:, 0], xy[:, 1], 'o', markerfacecolor=tuple(col), markeredgecolor='k', markersize=14)\n",
    "\n",
    "    xy =data1[0:100,:][class_member_mask & ~core_samples_mask]\n",
    "    plt.plot(xy[:, 0], xy[:, 1], 'o', markerfacecolor=tuple(col),markeredgecolor='k', markersize=6)\n",
    "\n",
    "plt.title('Estimated number of clusters: %d' % n_clusters_)\n",
    "plt.show()"
   ]
  },
  {
   "cell_type": "code",
   "execution_count": 88,
   "metadata": {},
   "outputs": [],
   "source": [
    "#3. Créer le grape SNN\n",
    "# pour générer le graphe SNN, il faut compter le nombre de voisins en commun puis mettre le poids\n",
    "    # l'algo se trouve p11 de ce pdf : https://pdfs.semanticscholar.org/fc0a/31e27925b62cf5931aab23995644d4d6dd3e.pdf\n",
    "    \n",
    "def SNNmatrix(nnmatrix, k):\n",
    "    snnmatrix= np.zeros((len(nnmatrix), len(nnmatrix)))\n",
    "    for i in range(len(nnmatrix)):\n",
    "        for j in range(len(nnmatrix)):\n",
    "            # on ne considère pas le sommet lui-même\n",
    "            # on considère que j est dans les plus proches voisins de i\n",
    "            # on considère que i est dans les plus proches voisins de j\n",
    "            if (i!=j) & (nnmatrix[i][j]!=0)& (nnmatrix[j][i]!=0):\n",
    "                for l in range(len(nnmatrix)):\n",
    "                    m= nnmatrix[i][l]\n",
    "                    n= nnmatrix[l][j]\n",
    "                    # on regarde si l est lié à i et à j et que l est différent de i et j\n",
    "                    if (l!=i) & (l!=j)&(m!=0) & (n!=0):\n",
    "                        snnmatrix[i][j]=snnmatrix[i][j]+1\n",
    "                        # Version pondérée :\n",
    "                        #snnmatrix[i][j]=snnmatrix[i][j]+(k+1-m)*(k+1-n)\n",
    "    return snnmatrix\n",
    "\n",
    "#((k+1-m)*(k+1-n))\n",
    "# TODO : testé, mais ça ne donne pas le bon résultat.\n",
    "# A Débuguer sur un exemple"
   ]
  },
  {
   "cell_type": "code",
   "execution_count": 96,
   "metadata": {},
   "outputs": [
    {
     "name": "stdout",
     "output_type": "stream",
     "text": [
      "[[0.         0.         0.01326947 0.         0.00416624 0.00915595]\n",
      " [0.         0.         0.         0.01203834 0.00373232 0.00278046]\n",
      " [0.01326947 0.         0.         0.         0.00424803 0.02667167]\n",
      " [0.         0.01203834 0.         0.         0.00436448 0.0035881 ]\n",
      " [0.00416624 0.         0.00424803 0.00436448 0.         0.        ]\n",
      " [0.00915595 0.         0.02667167 0.         0.00389552 0.        ]]\n",
      "[[0. 0. 2. 0. 2. 1.]\n",
      " [0. 0. 0. 1. 0. 0.]\n",
      " [2. 0. 0. 0. 2. 1.]\n",
      " [0. 0. 0. 0. 2. 0.]\n",
      " [1. 0. 1. 0. 0. 0.]\n",
      " [2. 0. 2. 0. 0. 0.]]\n",
      "[[ 68.601997 102.491997]\n",
      " [454.665985 264.80899 ]\n",
      " [101.283997 169.285995]\n",
      " [372.61499  263.140991]\n",
      " [300.989014  46.555   ]\n",
      " [100.904999 205.776993]]\n"
     ]
    }
   ],
   "source": [
    "print(X_Ksim)\n",
    "snn=SNNmatrix(X_Ksim,3)\n",
    "print(snn)\n",
    "print(data1[0:6,:])\n",
    "#print(snn.dot([1,1,1,1,1,1]))"
   ]
  },
  {
   "cell_type": "code",
   "execution_count": 93,
   "metadata": {},
   "outputs": [
    {
     "name": "stdout",
     "output_type": "stream",
     "text": [
      "[[0. 0.]\n",
      " [0. 0.]\n",
      " [0. 0.]\n",
      " [0. 0.]\n",
      " [0. 0.]\n",
      " [0. 0.]]\n"
     ]
    }
   ],
   "source": [
    "# \n",
    "dataprint=data1[0:6,:]\n",
    "for i in range(6):\n",
    "    for j in range(6):\n",
    "        if snn[i][j]==0:\n",
    "            dataprint[i]=0\n",
    "            \n",
    "print(dataprint)\n",
    "#4. Appliquer le principe de DBSCAN\n",
    "# J'ai pas trop saisi coment faire ..."
   ]
  },
  {
   "cell_type": "code",
   "execution_count": null,
   "metadata": {},
   "outputs": [],
   "source": []
  },
  {
   "cell_type": "code",
   "execution_count": null,
   "metadata": {},
   "outputs": [],
   "source": []
  }
 ],
 "metadata": {
  "kernelspec": {
   "display_name": "Python 3",
   "language": "python",
   "name": "python3"
  },
  "language_info": {
   "codemirror_mode": {
    "name": "ipython",
    "version": 3
   },
   "file_extension": ".py",
   "mimetype": "text/x-python",
   "name": "python",
   "nbconvert_exporter": "python",
   "pygments_lexer": "ipython3",
   "version": "3.6.7"
  }
 },
 "nbformat": 4,
 "nbformat_minor": 2
}
